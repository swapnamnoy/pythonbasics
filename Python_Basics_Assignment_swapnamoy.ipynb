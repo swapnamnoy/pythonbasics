{
 "cells": [
  {
   "cell_type": "markdown",
   "id": "8ebc002b-00fb-4472-b928-5de622c915f6",
   "metadata": {
    "tags": []
   },
   "source": [
    "# PYTHON BASIC ASSIGNMENT\n"
   ]
  },
  {
   "cell_type": "markdown",
   "id": "a68c09b7-9826-448d-b5b4-29f0ee947861",
   "metadata": {
    "jp-MarkdownHeadingCollapsed": true,
    "tags": []
   },
   "source": [
    "### 1. Explain the key features of Python that make it a popular choice for programming."
   ]
  },
  {
   "cell_type": "markdown",
   "id": "f629a464-4263-422f-a53f-e4661c57b433",
   "metadata": {},
   "source": [
    "Ans. There are multiple key features of Python the make python the most popular choie for programming:\n",
    "\n",
    "- Simple and Readable Syntax:     \n",
    "    Clear and straight forward syntax, makes it easy to learn, write and enhancing productivity.\n",
    "\n",
    "- Extensive Standard Library:     \n",
    "    Python comes with a rich standard library that provides modules and functions for various tasks like file handling, web development, data manipulation, and more.\n",
    "\n",
    "- Portable Language:     \n",
    "    If we have Python code for Windows and if we want to run this code on other platforms such as Linux, Unix, and Mac then we do not need to change it, we can run this code on any platform.\n",
    "\n",
    "- Free and Open Source:   \n",
    "    Python language is freely available at the official website. Since it is open-source, this means that source code is also available to the public.\n",
    "\n",
    "- Multiple Paradigm:    \n",
    "    Python supports multiple styles of programming within a same language, such as Procedural Programming, Object-Oriented Programming and Functional Programming.\n",
    "\n",
    "- Large Community and Ecosystem:   \n",
    "    Python has a vast and active community of developers who contribute to its ecosystem. This means abundant resources like documentation, tutorials, and third-party libraries (like NumPy, Pandas, Django, and Flask) that extend Python's functionality across domains like web development, data analysis, machine learning, and more.\n",
    "\n",
    "- Fronted and Backend Development:   \n",
    "    With a new project py script, we can run and write Python codes in HTML with the help of some simple tags <py-script>, <py-env>, etc. This will help us do frontend development work in Python like javascript. Backend is the strong forte of Python it’s extensively used for this work cause of its frameworks like Django and Flask."
   ]
  },
  {
   "cell_type": "markdown",
   "id": "53f2abaa-0658-4f05-8808-c9eedf0fa9db",
   "metadata": {},
   "source": [
    "\n",
    "\n",
    "\n"
   ]
  },
  {
   "cell_type": "markdown",
   "id": "eee177ae-1fc8-4ce7-adc9-8657eb5f0181",
   "metadata": {
    "jp-MarkdownHeadingCollapsed": true,
    "tags": []
   },
   "source": [
    "### 2. Describe the role of predefined keywords in Python and provide examples of how they are used in a program."
   ]
  },
  {
   "cell_type": "markdown",
   "id": "7bab6115-32b2-42ac-bde8-21688be13551",
   "metadata": {},
   "source": [
    "Ans. Predefined keywords in Python are reserved words that have specific meanings and functions within the language. These keywords are part of Python’s syntax and cannot be used as identifiers (such as variable names, function names, etc.). They define the structure and flow of a Python program, helping in writing conditional statements, loops, defining functions, handling exceptions, and more.\n",
    "\n",
    "There are total 35 numbers of keywords in python:"
   ]
  },
  {
   "cell_type": "code",
   "execution_count": 2,
   "id": "18d77729-bf8f-4054-9376-834fafcf2a50",
   "metadata": {},
   "outputs": [
    {
     "name": "stdout",
     "output_type": "stream",
     "text": [
      "\n",
      "Here is a list of the Python keywords.  Enter any keyword to get more help.\n",
      "\n",
      "False               class               from                or\n",
      "None                continue            global              pass\n",
      "True                def                 if                  raise\n",
      "and                 del                 import              return\n",
      "as                  elif                in                  try\n",
      "assert              else                is                  while\n",
      "async               except              lambda              with\n",
      "await               finally             nonlocal            yield\n",
      "break               for                 not                 \n",
      "\n"
     ]
    }
   ],
   "source": [
    "help(\"keywords\")"
   ]
  },
  {
   "cell_type": "markdown",
   "id": "ec567771-a3b8-46f0-8fa7-86f2767492a8",
   "metadata": {},
   "source": [
    "Here some example of use of Python Keywords:"
   ]
  },
  {
   "cell_type": "code",
   "execution_count": 3,
   "id": "cccb0654-89da-4e36-8242-318b2c7f67a6",
   "metadata": {},
   "outputs": [
    {
     "name": "stdout",
     "output_type": "stream",
     "text": [
      "x is greater than 5\n"
     ]
    }
   ],
   "source": [
    "# Conditional Statements (if, else, elif):\n",
    "# These keywords are used to perform different actions based on different conditions.\n",
    "\n",
    "x = 10\n",
    "if x > 5:\n",
    "    print(\"x is greater than 5\")\n",
    "elif x == 5:\n",
    "    print(\"x is equal to 5\")\n",
    "else:\n",
    "    print(\"x is less than 5\")"
   ]
  },
  {
   "cell_type": "code",
   "execution_count": 4,
   "id": "97d51ba8-ed53-4984-8d54-b41535ebfb5f",
   "metadata": {},
   "outputs": [
    {
     "name": "stdout",
     "output_type": "stream",
     "text": [
      "The system is active\n"
     ]
    }
   ],
   "source": [
    "# Boolean Values (True, False):\n",
    "# These keywords represent boolean values and are used in logical expressions.\n",
    "\n",
    "is_active = True\n",
    "if is_active:\n",
    "    print(\"The system is active\")"
   ]
  },
  {
   "cell_type": "code",
   "execution_count": 5,
   "id": "795c34d1-dc3d-4028-85b9-5eb1eb3b7338",
   "metadata": {},
   "outputs": [
    {
     "name": "stdout",
     "output_type": "stream",
     "text": [
      "0\n",
      "1\n",
      "2\n"
     ]
    }
   ],
   "source": [
    "# Loops (for, while, break, continue):\n",
    "# Keywords like for and while are used to create loops, while break and continue control the flow within loops.\n",
    "\n",
    "for i in range(5):\n",
    "    if i == 3:\n",
    "        break  # Exit the loop when i is 3\n",
    "    print(i)"
   ]
  },
  {
   "cell_type": "code",
   "execution_count": 6,
   "id": "54253d93-29cf-42df-9607-5b735ceb0337",
   "metadata": {},
   "outputs": [
    {
     "name": "stdout",
     "output_type": "stream",
     "text": [
      "5\n"
     ]
    }
   ],
   "source": [
    "# Function Definition (def, return):\n",
    "# The def keyword is used to define functions, and return is used to send a value back to the caller.\n",
    "\n",
    "def add(a, b):\n",
    "    return a + b\n",
    "\n",
    "result = add(2, 3)\n",
    "print(result)"
   ]
  },
  {
   "cell_type": "code",
   "execution_count": 7,
   "id": "f6db4556-ba49-4168-884f-5a4f0bfde3f0",
   "metadata": {},
   "outputs": [
    {
     "name": "stdout",
     "output_type": "stream",
     "text": [
      "True\n",
      "True\n"
     ]
    }
   ],
   "source": [
    "# is: Tests for object identity.\n",
    "# in: Tests for membership in sequences like lists, tuples, or strings.\n",
    "\n",
    "\n",
    "a = [1, 2, 3]\n",
    "b = a\n",
    "print(a is b)  \n",
    "print(3 in a)  "
   ]
  },
  {
   "cell_type": "markdown",
   "id": "297a2eae-1c52-4a62-8c3e-3e076e884cac",
   "metadata": {},
   "source": [
    "\n",
    "\n",
    "\n",
    "\n"
   ]
  },
  {
   "cell_type": "markdown",
   "id": "7bfbd6d1-6abe-4c9f-b1d3-bd72170fe8b5",
   "metadata": {
    "jp-MarkdownHeadingCollapsed": true,
    "tags": []
   },
   "source": [
    "### 3. Compare and contrast mutable and immutable objects in Python with examples."
   ]
  },
  {
   "cell_type": "markdown",
   "id": "eb647b98-91b0-48bc-8e66-99850173c20d",
   "metadata": {},
   "source": [
    "Ans. In Python, objects are classified as either mutable or immutable based on whether their state (i.e., their contents) can be changed after they are created. Understanding this distinction is crucial for working with data structures in Python. Let’s compare and contrast mutable and immutable objects with examples:"
   ]
  },
  {
   "cell_type": "markdown",
   "id": "7c40c6d9-5722-4d9a-b407-3a9186f43b35",
   "metadata": {},
   "source": [
    "1. Mutable Objects:   \n",
    "    Mutable objects are those whose state or contents can be changed after they are created. You can modify them in place without creating a new object.   \n",
    "    Examples: Lists, dictionaries, sets, bytearrays, etc."
   ]
  },
  {
   "cell_type": "code",
   "execution_count": 12,
   "id": "e373472c-89ec-42cf-a3de-d7e2182b4815",
   "metadata": {},
   "outputs": [
    {
     "name": "stdout",
     "output_type": "stream",
     "text": [
      "[1, 2, 3]\n"
     ]
    }
   ],
   "source": [
    "# Example with a List (Mutable Object):\n",
    "\n",
    "# Creating a list\n",
    "\n",
    "my_list = [1, 2, 3]\n",
    "print(my_list) "
   ]
  },
  {
   "cell_type": "code",
   "execution_count": 13,
   "id": "204f2489-bf3a-4220-a829-dc8bf3f9d6a0",
   "metadata": {},
   "outputs": [
    {
     "name": "stdout",
     "output_type": "stream",
     "text": [
      "[4, 2, 3]\n"
     ]
    }
   ],
   "source": [
    "# Modifying the list\n",
    "\n",
    "my_list[0] = 4\n",
    "print(my_list)"
   ]
  },
  {
   "cell_type": "code",
   "execution_count": 14,
   "id": "be14e138-a64b-44d0-94b8-9f0beea56cd3",
   "metadata": {},
   "outputs": [
    {
     "name": "stdout",
     "output_type": "stream",
     "text": [
      "[4, 2, 3, 5]\n"
     ]
    }
   ],
   "source": [
    "# Adding elements\n",
    "\n",
    "my_list.append(5)\n",
    "print(my_list)"
   ]
  },
  {
   "cell_type": "markdown",
   "id": "64cfbb1b-cd6a-4f12-93e4-92564bbf7d11",
   "metadata": {},
   "source": [
    "Behavior: The original list my_list is modified in place. No new list is created when changes are made."
   ]
  },
  {
   "cell_type": "markdown",
   "id": "cbcfa50a-33cb-448a-b413-91585a0f4bb3",
   "metadata": {},
   "source": [
    "\n",
    "\n",
    "\n"
   ]
  },
  {
   "cell_type": "markdown",
   "id": "bf562ec4-766e-4b7f-b47d-e160c3cb9940",
   "metadata": {},
   "source": [
    "2. Immutable Objects:   \n",
    "    Immutable objects are those whose state or contents cannot be changed after they are created. Any modification will result in the creation of a new object.    \n",
    "    Examples: Strings, tuples, integers, floats, frozensets, etc."
   ]
  },
  {
   "cell_type": "code",
   "execution_count": 16,
   "id": "c392c67a-833f-463b-b804-f0879c04a036",
   "metadata": {},
   "outputs": [
    {
     "name": "stdout",
     "output_type": "stream",
     "text": [
      "Soumen\n"
     ]
    }
   ],
   "source": [
    "# Example with a String (Immutable Object):\n",
    "\n",
    "# Creating a string\n",
    "\n",
    "my_string = \"Soumen\"\n",
    "print(my_string)"
   ]
  },
  {
   "cell_type": "code",
   "execution_count": 17,
   "id": "a09d3f71-0b8e-4b57-90c7-c02efa17c558",
   "metadata": {},
   "outputs": [
    {
     "ename": "TypeError",
     "evalue": "'str' object does not support item assignment",
     "output_type": "error",
     "traceback": [
      "\u001b[0;31m---------------------------------------------------------------------------\u001b[0m",
      "\u001b[0;31mTypeError\u001b[0m                                 Traceback (most recent call last)",
      "Cell \u001b[0;32mIn[17], line 3\u001b[0m\n\u001b[1;32m      1\u001b[0m \u001b[38;5;66;03m# Modifying the string\u001b[39;00m\n\u001b[0;32m----> 3\u001b[0m \u001b[43mmy_string\u001b[49m\u001b[43m[\u001b[49m\u001b[38;5;241;43m0\u001b[39;49m\u001b[43m]\u001b[49m \u001b[38;5;241m=\u001b[39m \u001b[38;5;124m\"\u001b[39m\u001b[38;5;124ms\u001b[39m\u001b[38;5;124m\"\u001b[39m\n\u001b[1;32m      4\u001b[0m \u001b[38;5;28mprint\u001b[39m(my_string)\n",
      "\u001b[0;31mTypeError\u001b[0m: 'str' object does not support item assignment"
     ]
    }
   ],
   "source": [
    "# Modifying the string\n",
    "\n",
    "my_string[0] = \"s\"\n",
    "print(my_string)"
   ]
  },
  {
   "cell_type": "code",
   "execution_count": 19,
   "id": "2b49fc9b-fa29-4899-9e0c-a786742a9c06",
   "metadata": {},
   "outputs": [
    {
     "name": "stdout",
     "output_type": "stream",
     "text": [
      "soumen\n"
     ]
    }
   ],
   "source": [
    "# Reassigning the string (creates a new object)\n",
    "\n",
    "my_string = \"soumen\"\n",
    "print(my_string)"
   ]
  },
  {
   "cell_type": "markdown",
   "id": "244f72d0-34e5-400d-8c4a-152fbd2f6b88",
   "metadata": {},
   "source": [
    "Behavior: When trying to modify a string, Python will not allow it. If we reassign the string, a new string object is created, leaving the original unchanged."
   ]
  },
  {
   "cell_type": "markdown",
   "id": "a5cc8658-4c8d-4921-952f-62ee092a92ef",
   "metadata": {},
   "source": [
    "\n",
    "\n",
    "\n"
   ]
  },
  {
   "cell_type": "markdown",
   "id": "ff1e8c0c-9e08-4a22-a907-555aef6b28c2",
   "metadata": {
    "jp-MarkdownHeadingCollapsed": true,
    "tags": []
   },
   "source": [
    "### 4. Discuss the different types of operators in Python and provide examples of how they are used."
   ]
  },
  {
   "cell_type": "raw",
   "id": "b4e7c5e9-dd2f-4092-addf-027ebaf6757f",
   "metadata": {},
   "source": [
    "Ans. In Python, operators are symbols or keywords that perform operations on values and variables. Python provides a variety of operators to perform different types of operations. Here's a discussion of the different types of operators in Python, along with examples:"
   ]
  },
  {
   "cell_type": "markdown",
   "id": "e9cf790e-9255-4bee-8c5c-e2ee7f0ed7b2",
   "metadata": {},
   "source": [
    "1. Arithmetic Operators:   \n",
    "    Arithmetic operators are used to perform mathematical operations such as addition, subtraction, multiplication, etc."
   ]
  },
  {
   "cell_type": "code",
   "execution_count": 26,
   "id": "15f47abd-1bf3-4af8-a5e7-d60fb25805f3",
   "metadata": {},
   "outputs": [
    {
     "data": {
      "text/plain": [
       "8"
      ]
     },
     "execution_count": 26,
     "metadata": {},
     "output_type": "execute_result"
    }
   ],
   "source": [
    "# \"+\" (Addition): Adds two operands.\n",
    "\n",
    "x = 5+3\n",
    "x"
   ]
  },
  {
   "cell_type": "code",
   "execution_count": 27,
   "id": "88ae1e99-6131-4c69-ab13-17bea379a7b8",
   "metadata": {},
   "outputs": [
    {
     "data": {
      "text/plain": [
       "5.0"
      ]
     },
     "execution_count": 27,
     "metadata": {},
     "output_type": "execute_result"
    }
   ],
   "source": [
    "# \"/\" (Division): Divides the first operand by the second.\n",
    "\n",
    "x = 10/2\n",
    "x"
   ]
  },
  {
   "cell_type": "code",
   "execution_count": 28,
   "id": "e29358ff-6d2f-40c1-8393-67c54052281c",
   "metadata": {},
   "outputs": [
    {
     "data": {
      "text/plain": [
       "1"
      ]
     },
     "execution_count": 28,
     "metadata": {},
     "output_type": "execute_result"
    }
   ],
   "source": [
    "# % (Modulus): Returns the remainder of the division.\n",
    "\n",
    "x = 10%3\n",
    "x"
   ]
  },
  {
   "cell_type": "code",
   "execution_count": 29,
   "id": "459a2d2e-41ba-4d85-bde4-617bb7169747",
   "metadata": {},
   "outputs": [
    {
     "data": {
      "text/plain": [
       "25"
      ]
     },
     "execution_count": 29,
     "metadata": {},
     "output_type": "execute_result"
    }
   ],
   "source": [
    "# ** (Exponentiation): Raises the first operand to the power of the second.\n",
    "\n",
    "x = 5**2\n",
    "x"
   ]
  },
  {
   "cell_type": "code",
   "execution_count": 30,
   "id": "a7651ab1-ca86-4f78-b8a6-acbcec98cf52",
   "metadata": {},
   "outputs": [
    {
     "data": {
      "text/plain": [
       "5"
      ]
     },
     "execution_count": 30,
     "metadata": {},
     "output_type": "execute_result"
    }
   ],
   "source": [
    "# // (Floor Division): Divides and returns the largest integer smaller than or equal to the result.\n",
    "\n",
    "x = 27//5\n",
    "x"
   ]
  },
  {
   "cell_type": "markdown",
   "id": "cd480d0c-4b77-4fc0-8311-3aae68455c78",
   "metadata": {},
   "source": [
    "2. Comparison (Relational) Operators:   \n",
    "    Comparison operators are used to compare two values and return a boolean value (True or False)."
   ]
  },
  {
   "cell_type": "code",
   "execution_count": 32,
   "id": "0874fee3-24e1-4592-b7af-c5c4112a474c",
   "metadata": {},
   "outputs": [
    {
     "data": {
      "text/plain": [
       "True"
      ]
     },
     "execution_count": 32,
     "metadata": {},
     "output_type": "execute_result"
    }
   ],
   "source": [
    "# == (Equal to): Returns True if both operands are equal.\n",
    "\n",
    "x = (5==5)\n",
    "x"
   ]
  },
  {
   "cell_type": "code",
   "execution_count": 33,
   "id": "a8e4c095-9b9c-41ca-b2c2-e20d2ce0bec3",
   "metadata": {},
   "outputs": [
    {
     "data": {
      "text/plain": [
       "False"
      ]
     },
     "execution_count": 33,
     "metadata": {},
     "output_type": "execute_result"
    }
   ],
   "source": [
    "# != (Not equal to): Returns True if both operands are not equal.\n",
    "\n",
    "x = (5!=5)\n",
    "x"
   ]
  },
  {
   "cell_type": "code",
   "execution_count": 34,
   "id": "ecec0521-9904-4ac3-8a4e-d89525f76eec",
   "metadata": {},
   "outputs": [
    {
     "data": {
      "text/plain": [
       "True"
      ]
     },
     "execution_count": 34,
     "metadata": {},
     "output_type": "execute_result"
    }
   ],
   "source": [
    "# > (Greater than): Returns True if the left operand is greater than the right.\n",
    "\n",
    "x = (5>2)\n",
    "x"
   ]
  },
  {
   "cell_type": "code",
   "execution_count": 35,
   "id": "327d4a79-edb5-476c-aaef-096bdd35ce60",
   "metadata": {},
   "outputs": [
    {
     "data": {
      "text/plain": [
       "False"
      ]
     },
     "execution_count": 35,
     "metadata": {},
     "output_type": "execute_result"
    }
   ],
   "source": [
    "# <= (Less than or equal to): Returns True if the left operand is less than or equal to the right.\n",
    "\n",
    "x = (5<=3)\n",
    "x"
   ]
  },
  {
   "cell_type": "markdown",
   "id": "c32db534-9e1c-4741-ab23-3f66141ffb87",
   "metadata": {},
   "source": [
    "3. Assignment Operators:   \n",
    "    Assignment operators are used to assign values to variables."
   ]
  },
  {
   "cell_type": "code",
   "execution_count": 38,
   "id": "f89c58bb-fa01-4f40-8223-b005ce200842",
   "metadata": {},
   "outputs": [
    {
     "data": {
      "text/plain": [
       "7"
      ]
     },
     "execution_count": 38,
     "metadata": {},
     "output_type": "execute_result"
    }
   ],
   "source": [
    "# = (Assign): Assigns the value of the right operand to the left operand.\n",
    "\n",
    "x = 7\n",
    "x"
   ]
  },
  {
   "cell_type": "code",
   "execution_count": 39,
   "id": "d2da9b24-e8ab-4a9f-b6d4-57c04b149830",
   "metadata": {},
   "outputs": [
    {
     "data": {
      "text/plain": [
       "5"
      ]
     },
     "execution_count": 39,
     "metadata": {},
     "output_type": "execute_result"
    }
   ],
   "source": [
    "# -= (Subtract and assign): Subtracts the right operand from the left operand and assigns the result to the left operand.\n",
    "\n",
    "x -= 2\n",
    "x"
   ]
  },
  {
   "cell_type": "code",
   "execution_count": 40,
   "id": "9dcd7fa8-b38c-4c70-a075-09a0f82ad5e5",
   "metadata": {},
   "outputs": [
    {
     "data": {
      "text/plain": [
       "25"
      ]
     },
     "execution_count": 40,
     "metadata": {},
     "output_type": "execute_result"
    }
   ],
   "source": [
    "# *= (Multiply and assign): Multiplies the left operand by the right operand and assigns the result to the left operand.\n",
    "\n",
    "x *= 5\n",
    "x"
   ]
  },
  {
   "cell_type": "code",
   "execution_count": 41,
   "id": "49abb57b-a557-4142-963d-b14797e0c645",
   "metadata": {},
   "outputs": [
    {
     "data": {
      "text/plain": [
       "5"
      ]
     },
     "execution_count": 41,
     "metadata": {},
     "output_type": "execute_result"
    }
   ],
   "source": [
    "# //= (Floor divide and assign): Performs floor division using two operands and assigns the result to the left operand.\n",
    "\n",
    "x //=5\n",
    "x"
   ]
  },
  {
   "cell_type": "markdown",
   "id": "2edf50c9-dd25-4c56-995d-866ac08b72af",
   "metadata": {},
   "source": [
    "4. Logical Operators:   \n",
    "    Logical operators are used to combine conditional statements and return a boolean value."
   ]
  },
  {
   "cell_type": "code",
   "execution_count": 42,
   "id": "d6058fb2-29b6-4e05-81e7-4d3db055b40f",
   "metadata": {},
   "outputs": [
    {
     "data": {
      "text/plain": [
       "True"
      ]
     },
     "execution_count": 42,
     "metadata": {},
     "output_type": "execute_result"
    }
   ],
   "source": [
    "# and: Returns True if both operands are true.\n",
    "\n",
    "x = (5 > 3 and 3 > 1) \n",
    "x"
   ]
  },
  {
   "cell_type": "code",
   "execution_count": 44,
   "id": "41cdf819-e110-48be-9e86-ca75dd72edd2",
   "metadata": {},
   "outputs": [
    {
     "data": {
      "text/plain": [
       "True"
      ]
     },
     "execution_count": 44,
     "metadata": {},
     "output_type": "execute_result"
    }
   ],
   "source": [
    "# or: Returns True if at least one operand is true.\n",
    "\n",
    "x = (5 > 3 or 3 < 1)\n",
    "x"
   ]
  },
  {
   "cell_type": "code",
   "execution_count": 45,
   "id": "dff2f517-cfb9-4d80-9aff-216d88cc0673",
   "metadata": {},
   "outputs": [
    {
     "data": {
      "text/plain": [
       "False"
      ]
     },
     "execution_count": 45,
     "metadata": {},
     "output_type": "execute_result"
    }
   ],
   "source": [
    "# not: Reverses the boolean value of the operand.\n",
    "\n",
    "x = not(5 > 3) \n",
    "x"
   ]
  },
  {
   "cell_type": "markdown",
   "id": "be57d847-8b60-4a98-8451-2a74c10e361e",
   "metadata": {},
   "source": [
    "5. Identity Operators:   \n",
    "    Identity operators are used to compare the memory locations of two objects."
   ]
  },
  {
   "cell_type": "code",
   "execution_count": 46,
   "id": "dc6029b2-7acf-4211-b0c8-075e1ad53691",
   "metadata": {},
   "outputs": [
    {
     "name": "stdout",
     "output_type": "stream",
     "text": [
      "True\n"
     ]
    }
   ],
   "source": [
    "# is: Returns True if two variables point to the same object in memory.\n",
    "\n",
    "x = [1, 2, 3]\n",
    "y = x\n",
    "print(x is y)"
   ]
  },
  {
   "cell_type": "code",
   "execution_count": 48,
   "id": "b2d8252e-fd12-439e-9167-d081d48d65af",
   "metadata": {},
   "outputs": [
    {
     "name": "stdout",
     "output_type": "stream",
     "text": [
      "False\n"
     ]
    }
   ],
   "source": [
    "# is not: Returns True if two variables do not point to the same object in memory.\n",
    "\n",
    "x = [1, 2, 3]\n",
    "y = x\n",
    "print(x is not y)"
   ]
  },
  {
   "cell_type": "markdown",
   "id": "b3c93bf5-02a5-44d7-96b8-9dddb9f18b82",
   "metadata": {},
   "source": [
    "6. Membership Operators:    \n",
    "    Membership operators test for membership in a sequence (like lists, strings, or tuples)."
   ]
  },
  {
   "cell_type": "code",
   "execution_count": 50,
   "id": "55174c70-bb1b-45b9-ac6b-30de3aca3171",
   "metadata": {},
   "outputs": [
    {
     "name": "stdout",
     "output_type": "stream",
     "text": [
      "True\n"
     ]
    }
   ],
   "source": [
    "# in: Returns True if the value is found in the sequence.\n",
    "\n",
    "x = [1, 2, 3]\n",
    "print(2 in x)"
   ]
  },
  {
   "cell_type": "code",
   "execution_count": 51,
   "id": "c6a7ce98-0ecc-4bd6-be23-37326335ef12",
   "metadata": {},
   "outputs": [
    {
     "name": "stdout",
     "output_type": "stream",
     "text": [
      "True\n"
     ]
    }
   ],
   "source": [
    "# not in: Returns True if the value is not found in the sequence.\n",
    "\n",
    "x = [1, 2, 3]\n",
    "y = 4\n",
    "print(y not in x)"
   ]
  },
  {
   "cell_type": "markdown",
   "id": "232f18e6-5a81-458d-a912-ec4ff1c63dce",
   "metadata": {},
   "source": [
    "7. Bitwise Operators:   \n",
    "    Bitwise operators perform operations on binary representations of integers."
   ]
  },
  {
   "cell_type": "code",
   "execution_count": 53,
   "id": "a550d372-3f83-40c5-a973-67fc09c090af",
   "metadata": {},
   "outputs": [
    {
     "data": {
      "text/plain": [
       "1"
      ]
     },
     "execution_count": 53,
     "metadata": {},
     "output_type": "execute_result"
    }
   ],
   "source": [
    "# & (Bitwise AND): Performs AND operation on each bit.\n",
    "\n",
    "x = 5 & 3  # Output: 1 (binary: 0101 & 0011 = 0001)\n",
    "x"
   ]
  },
  {
   "cell_type": "code",
   "execution_count": 54,
   "id": "b44f933d-e033-4615-bcf0-6012219fdede",
   "metadata": {},
   "outputs": [
    {
     "data": {
      "text/plain": [
       "7"
      ]
     },
     "execution_count": 54,
     "metadata": {},
     "output_type": "execute_result"
    }
   ],
   "source": [
    "# | (Bitwise OR): Performs OR operation on each bit.\n",
    "\n",
    "x = 5 | 3  # Output: 7 (binary: 0101 | 0011 = 0111)\n",
    "x"
   ]
  },
  {
   "cell_type": "code",
   "execution_count": 55,
   "id": "5b80c85c-9995-4760-89c8-3b6233e15850",
   "metadata": {},
   "outputs": [
    {
     "data": {
      "text/plain": [
       "6"
      ]
     },
     "execution_count": 55,
     "metadata": {},
     "output_type": "execute_result"
    }
   ],
   "source": [
    "# ^ (Bitwise XOR): Performs XOR operation on each bit.\n",
    "\n",
    "x = 5 ^ 3  # Output: 6 (binary: 0101 ^ 0011 = 0110)\n",
    "x"
   ]
  },
  {
   "cell_type": "code",
   "execution_count": 59,
   "id": "07955669-1100-414c-ba24-b1d8a63a7edf",
   "metadata": {},
   "outputs": [
    {
     "data": {
      "text/plain": [
       "-6"
      ]
     },
     "execution_count": 59,
     "metadata": {},
     "output_type": "execute_result"
    }
   ],
   "source": [
    "# ~ (Bitwise NOT): Inverts each bit (flips 0s to 1s and vice versa).\n",
    "\n",
    "x = ~5  # Output: -6 (binary: ~0101 = 1010)\n",
    "x"
   ]
  },
  {
   "cell_type": "code",
   "execution_count": 60,
   "id": "77ccf7ee-59f9-4690-b9e1-42b7bad28453",
   "metadata": {},
   "outputs": [
    {
     "data": {
      "text/plain": [
       "10"
      ]
     },
     "execution_count": 60,
     "metadata": {},
     "output_type": "execute_result"
    }
   ],
   "source": [
    "# << (Bitwise Left Shift): Shifts bits to the left by the specified number of positions.\n",
    "\n",
    "x = 5 << 1  # Output: 10 (binary: 0101 << 1 = 1010)\n",
    "x"
   ]
  },
  {
   "cell_type": "code",
   "execution_count": 61,
   "id": "a80a0297-9f62-4564-b40f-c3eaf51d4a72",
   "metadata": {},
   "outputs": [
    {
     "data": {
      "text/plain": [
       "2"
      ]
     },
     "execution_count": 61,
     "metadata": {},
     "output_type": "execute_result"
    }
   ],
   "source": [
    "# >> (Bitwise Right Shift): Shifts bits to the right by the specified number of positions.\n",
    "\n",
    "x = 5 >> 1  # Output: 2 (binary: 0101 >> 1 = 0010)\n",
    "x"
   ]
  },
  {
   "cell_type": "markdown",
   "id": "4284d356-fbbd-453f-acb8-35e4c37585e5",
   "metadata": {},
   "source": [
    "\n",
    "\n",
    "\n"
   ]
  },
  {
   "cell_type": "markdown",
   "id": "3a478f8f-9220-4d7f-8c65-82fe75de62ba",
   "metadata": {
    "jp-MarkdownHeadingCollapsed": true,
    "tags": []
   },
   "source": [
    "### 5. Explain the concept of type casting in Python with examples."
   ]
  },
  {
   "cell_type": "markdown",
   "id": "022b690d-b4bf-46f2-9ed5-dae6c0edf8d9",
   "metadata": {},
   "source": [
    "Ans. Type casting in Python refers to the process of converting one data type into another. This is useful when you want to perform operations that require operands to be of the same type or when you want to explicitly change the type of a variable. Python supports two types of type casting:"
   ]
  },
  {
   "cell_type": "markdown",
   "id": "9d0976ca-b3ff-4c78-bec7-f8551fe4f77d",
   "metadata": {},
   "source": [
    "1. Implicit Type Casting:   \n",
    "    Implicit type casting is automatically performed by Python when it converts a smaller data type to a larger data type to prevent data loss. This type of casting is done without the programmer’s intervention."
   ]
  },
  {
   "cell_type": "code",
   "execution_count": 10,
   "id": "7eb6c5e4-bd5a-485d-beee-36def5b55ec4",
   "metadata": {},
   "outputs": [
    {
     "name": "stdout",
     "output_type": "stream",
     "text": [
      "7.5\n",
      "<class 'float'>\n"
     ]
    }
   ],
   "source": [
    "# Example\n",
    "\n",
    "# Implicit type casting (int to float)\n",
    "x = 5      # int\n",
    "y = 2.5    # float\n",
    "z = x + y  # Python automatically converts 'x' to float\n",
    "print(z)   # Output: 7.5\n",
    "print(type(z))  "
   ]
  },
  {
   "cell_type": "markdown",
   "id": "4b5ee1f6-900b-452b-8b99-ee777ce10dcb",
   "metadata": {},
   "source": [
    "In this example, Python converts the integer x to a float before performing the addition, ensuring that no data is lost."
   ]
  },
  {
   "cell_type": "markdown",
   "id": "929cdc1f-49fb-47fd-81f9-490f657c72fa",
   "metadata": {},
   "source": [
    "2. Explicit Type Casting:    \n",
    "    Explicit type casting, also known as type conversion, is when the programmer manually converts one data type into another using Python's built-in functions."
   ]
  },
  {
   "cell_type": "markdown",
   "id": "f0b797fe-7917-433b-b248-59401c041ab0",
   "metadata": {},
   "source": [
    "Here are some common functions used for explicit type casting:\n",
    "\n",
    "- int(): Converts a value to an integer.\n",
    "- float(): Converts a value to a float.\n",
    "- str(): Converts a value to a string.\n",
    "- list(): Converts a sequence to a list.\n",
    "- tuple(): Converts a sequence to a tuple."
   ]
  },
  {
   "cell_type": "code",
   "execution_count": 63,
   "id": "598bdd0d-7a21-4127-a268-eb758ed5d988",
   "metadata": {},
   "outputs": [
    {
     "name": "stdout",
     "output_type": "stream",
     "text": [
      "7\n",
      "<class 'int'>\n"
     ]
    }
   ],
   "source": [
    "# Converting float to int:\n",
    "\n",
    "x = 7.9\n",
    "y = int(x)  # Converts float to int\n",
    "print(y)    # Output: 7\n",
    "print(type(y))  # Output: <class 'int'>"
   ]
  },
  {
   "cell_type": "code",
   "execution_count": 64,
   "id": "2f4e568f-f362-42ed-b0b5-ac0ce2afed28",
   "metadata": {},
   "outputs": [
    {
     "name": "stdout",
     "output_type": "stream",
     "text": [
      "5.0\n",
      "<class 'float'>\n"
     ]
    }
   ],
   "source": [
    "# Converting int to float:\n",
    "\n",
    "x = 5\n",
    "y = float(x)\n",
    "print(y)\n",
    "print(type(y))"
   ]
  },
  {
   "cell_type": "code",
   "execution_count": 68,
   "id": "70b51b05-6cdb-43a6-b478-ea19fa3753e7",
   "metadata": {},
   "outputs": [
    {
     "name": "stdout",
     "output_type": "stream",
     "text": [
      "5\n",
      "<class 'str'>\n"
     ]
    }
   ],
   "source": [
    "# Converting int to string:\n",
    "\n",
    "x = 5\n",
    "y = str(x)\n",
    "print(y)\n",
    "print(type(y))"
   ]
  },
  {
   "cell_type": "code",
   "execution_count": 69,
   "id": "9c659f21-2892-4d74-a779-3bcb55d76cb1",
   "metadata": {},
   "outputs": [
    {
     "name": "stdout",
     "output_type": "stream",
     "text": [
      "5\n",
      "<class 'int'>\n"
     ]
    }
   ],
   "source": [
    "# Converting string to int:\n",
    "\n",
    "x = \"5\"\n",
    "y = int(x)\n",
    "print(y)\n",
    "print(type(y))"
   ]
  },
  {
   "cell_type": "code",
   "execution_count": 70,
   "id": "0508c929-52e8-4f8c-aed2-fc7746248d7a",
   "metadata": {},
   "outputs": [
    {
     "name": "stdout",
     "output_type": "stream",
     "text": [
      "(1, 2, 3)\n",
      "<class 'tuple'>\n"
     ]
    }
   ],
   "source": [
    "# Converting list to tuple:\n",
    "\n",
    "x = [1, 2, 3]\n",
    "y = tuple(x)\n",
    "print(y)\n",
    "print(type(y))"
   ]
  },
  {
   "cell_type": "code",
   "execution_count": null,
   "id": "44b936fb-c031-4de5-99bd-cb7cd86c7d04",
   "metadata": {},
   "outputs": [],
   "source": [
    "\n",
    "\n",
    "\n"
   ]
  },
  {
   "cell_type": "markdown",
   "id": "e6ed4198-ee66-4639-a5cc-3c5787cf17e9",
   "metadata": {
    "jp-MarkdownHeadingCollapsed": true,
    "tags": []
   },
   "source": [
    "### 6. How do conditional statements work in Python? Illustrate with examples."
   ]
  },
  {
   "cell_type": "markdown",
   "id": "5753584d-e399-4da4-ac0b-e7bb5c24a90c",
   "metadata": {},
   "source": [
    "Conditional statements in Python allow you to execute certain pieces of code based on whether a condition is true or false. These statements are essential for decision-making in programming. Python provides several types of conditional statements: if, elif, and else.\n",
    "\n",
    "1. \"if\" Statement:     \n",
    "    The if statement is used to test a condition. If the condition evaluates to True, the block of code under the if statement is executed."
   ]
  },
  {
   "cell_type": "raw",
   "id": "f1e0f0b6-535c-4bb6-a7f2-6b0d1860abe1",
   "metadata": {},
   "source": [
    "Syntax:\n",
    "if condition:\n",
    "    # code to execute if condition is True"
   ]
  },
  {
   "cell_type": "code",
   "execution_count": 1,
   "id": "cfdecd3f-b0ce-4eec-9aad-525abe64b1c5",
   "metadata": {},
   "outputs": [
    {
     "name": "stdout",
     "output_type": "stream",
     "text": [
      "You are eligible to vote.\n"
     ]
    }
   ],
   "source": [
    "# Example\n",
    "\n",
    "age = 18\n",
    "if age >= 18:\n",
    "    print(\"You are eligible to vote.\")"
   ]
  },
  {
   "cell_type": "markdown",
   "id": "ed76774f-8ae7-4ede-b330-66ca0f114cd4",
   "metadata": {},
   "source": [
    "2. \"else\" Statement:    \n",
    "    The else statement provides an alternative block of code to execute if the if condition evaluates to False."
   ]
  },
  {
   "cell_type": "raw",
   "id": "e75b172c-2f17-4df5-86d7-b171463c83f0",
   "metadata": {},
   "source": [
    "Syntax:\n",
    "if condition:\n",
    "    # code to execute if condition is True\n",
    "else:\n",
    "    # code to execute if condition is False   "
   ]
  },
  {
   "cell_type": "code",
   "execution_count": 2,
   "id": "5650f1da-f333-4e68-a382-a78f2db7b68e",
   "metadata": {},
   "outputs": [
    {
     "name": "stdout",
     "output_type": "stream",
     "text": [
      "You are not eligible to vote.\n"
     ]
    }
   ],
   "source": [
    "# Example\n",
    "\n",
    "age = 16\n",
    "if age >= 18:\n",
    "    print(\"You are eligible to vote.\")\n",
    "else:\n",
    "    print(\"You are not eligible to vote.\")"
   ]
  },
  {
   "cell_type": "markdown",
   "id": "39d14088-e875-4e1c-aa29-b1737981840f",
   "metadata": {},
   "source": [
    "3. \"elif\" Statement:    \n",
    "     The elif (short for \"else if\") statement allows you to check multiple conditions. If the first if condition is False, it checks the next elif condition, and so on. If any elif condition is True, its block of code is executed."
   ]
  },
  {
   "cell_type": "raw",
   "id": "a601d664-d34c-47a7-ad38-5e5a2adc635e",
   "metadata": {},
   "source": [
    "Syntax:\n",
    "if condition1:\n",
    "    # code to execute if condition1 is True\n",
    "elif condition2:\n",
    "    # code to execute if condition2 is True\n",
    "else:\n",
    "    # code to execute if all conditions are False"
   ]
  },
  {
   "cell_type": "code",
   "execution_count": 3,
   "id": "54032104-a81c-4a3b-b993-4b4d7b2968a7",
   "metadata": {},
   "outputs": [
    {
     "name": "stdout",
     "output_type": "stream",
     "text": [
      "Grade: C\n"
     ]
    }
   ],
   "source": [
    "# Example\n",
    "\n",
    "marks = 75\n",
    "\n",
    "if marks >= 90:\n",
    "    print(\"Grade: A\")\n",
    "elif marks >= 80:\n",
    "    print(\"Grade: B\")\n",
    "elif marks >= 70:\n",
    "    print(\"Grade: C\")\n",
    "else:\n",
    "    print(\"Grade: D\")"
   ]
  },
  {
   "cell_type": "markdown",
   "id": "ac708ae9-df35-4ff1-82a9-a6f618d1c73d",
   "metadata": {},
   "source": [
    "4. Nested if Statements:     \n",
    "    You can also nest if statements inside other if statements. This allows you to check for multiple conditions in a more complex scenario."
   ]
  },
  {
   "cell_type": "raw",
   "id": "b43446c3-78b7-498a-ac1b-4ec96157c4b6",
   "metadata": {},
   "source": [
    "Syntax:\n",
    "if condition1:\n",
    "    if condition2:\n",
    "        # code to execute if both condition1 and condition2 are True\n",
    "    else:\n",
    "        # code to execute if condition1 is True and condition2 is False\n",
    "else:\n",
    "    # code to execute if condition1 is False"
   ]
  },
  {
   "cell_type": "code",
   "execution_count": 4,
   "id": "d3756bad-01fd-4d74-bd8d-0eb78265f9ee",
   "metadata": {},
   "outputs": [
    {
     "name": "stdout",
     "output_type": "stream",
     "text": [
      "The number is positive.\n",
      "It is also even.\n"
     ]
    }
   ],
   "source": [
    "# Example\n",
    "\n",
    "num = 10\n",
    "\n",
    "if num > 0:\n",
    "    print(\"The number is positive.\")\n",
    "    if num % 2 == 0:\n",
    "        print(\"It is also even.\")\n",
    "    else:\n",
    "        print(\"It is odd.\")\n",
    "else:\n",
    "    print(\"The number is not positive.\")"
   ]
  },
  {
   "cell_type": "markdown",
   "id": "faed2905-0133-4903-8bbf-7e9dfdded834",
   "metadata": {
    "jp-MarkdownHeadingCollapsed": true,
    "tags": []
   },
   "source": [
    "### 7. Describe the different types of loops in Python and their use cases with examples."
   ]
  },
  {
   "cell_type": "markdown",
   "id": "285894c4-ae93-48c8-a7e2-b07d8a7922fd",
   "metadata": {},
   "source": [
    "Ans. In Python, loops are used to repeatedly execute a block of code as long as a certain condition is met. There are two main types of loops in Python: for loops and while loops. Each type of loop has its specific use cases.\n",
    "\n",
    "1. \"for\" Loop:   \n",
    "    The for loop is used to iterate over a sequence (like a list, tuple, dictionary, set, or string) and execute a block of code for each element in the sequence. It's commonly used when the number of iterations is known or when iterating over a collection of items."
   ]
  },
  {
   "cell_type": "raw",
   "id": "781c95fc-442b-48c0-8747-f94534e58275",
   "metadata": {},
   "source": [
    "Syntax:\n",
    "for item in sequence:\n",
    "    # code to execute for each item"
   ]
  },
  {
   "cell_type": "code",
   "execution_count": 5,
   "id": "a9403767-9f79-4308-b165-4da63e04bc78",
   "metadata": {},
   "outputs": [
    {
     "name": "stdout",
     "output_type": "stream",
     "text": [
      "apple\n",
      "banana\n",
      "cherry\n"
     ]
    }
   ],
   "source": [
    "# Example\n",
    "\n",
    "# Iterating over a list\n",
    "fruits = [\"apple\", \"banana\", \"cherry\"]\n",
    "for fruit in fruits:\n",
    "    print(fruit)"
   ]
  },
  {
   "cell_type": "markdown",
   "id": "39ba8351-49fb-4411-b0fa-adbb00872abc",
   "metadata": {},
   "source": [
    "2. while Loop:    \n",
    "    The while loop repeatedly executes a block of code as long as a given condition is True. It's typically used when the number of iterations is not known beforehand, and the loop should continue running until a certain condition changes."
   ]
  },
  {
   "cell_type": "raw",
   "id": "5504c269-e340-4242-b396-f1531d9679d8",
   "metadata": {},
   "source": [
    "Syntax:\n",
    "while condition:\n",
    "    # code to execute as long as condition is True"
   ]
  },
  {
   "cell_type": "code",
   "execution_count": 6,
   "id": "9a14978b-8b0f-49d9-b2a2-43c88cc423a6",
   "metadata": {},
   "outputs": [
    {
     "name": "stdout",
     "output_type": "stream",
     "text": [
      "Count: 1\n",
      "Count: 2\n",
      "Count: 3\n",
      "Count: 4\n",
      "Count: 5\n"
     ]
    }
   ],
   "source": [
    "# Example\n",
    "\n",
    "# Looping until a condition is False\n",
    "count = 1\n",
    "while count <= 5:\n",
    "    print(\"Count:\", count)\n",
    "    count += 1"
   ]
  },
  {
   "cell_type": "markdown",
   "id": "d70b04f6-8e3e-473e-a509-f391c14225e2",
   "metadata": {},
   "source": [
    "3. break and continue Statements:  \n",
    "    Both for and while loops can use break and continue statements to control the flow of the loop.\n",
    "\n",
    "- break:   \n",
    "    Exits the loop prematurely, even if the loop condition is still True."
   ]
  },
  {
   "cell_type": "code",
   "execution_count": 7,
   "id": "60dcc6c6-06ad-41ae-9301-c4ef46fa8356",
   "metadata": {},
   "outputs": [
    {
     "name": "stdout",
     "output_type": "stream",
     "text": [
      "0\n",
      "1\n",
      "2\n",
      "3\n",
      "4\n"
     ]
    }
   ],
   "source": [
    "# Example\n",
    "\n",
    "# Exiting loop when a condition is met\n",
    "for num in range(10):\n",
    "    if num == 5:\n",
    "        break\n",
    "    print(num)"
   ]
  },
  {
   "cell_type": "markdown",
   "id": "7082d43c-e0cb-4b5c-af92-249ffa7f7992",
   "metadata": {},
   "source": [
    "- continue:   \n",
    "    Skips the rest of the current iteration and moves to the next iteration of the loop."
   ]
  },
  {
   "cell_type": "code",
   "execution_count": 8,
   "id": "81ad3d8e-4815-4d5a-9b28-0e748311e1a1",
   "metadata": {},
   "outputs": [
    {
     "name": "stdout",
     "output_type": "stream",
     "text": [
      "1\n",
      "3\n",
      "5\n",
      "7\n",
      "9\n"
     ]
    }
   ],
   "source": [
    "# Example\n",
    "\n",
    "# Skipping an iteration\n",
    "for num in range(10):\n",
    "    if num % 2 == 0:\n",
    "        continue\n",
    "    print(num)"
   ]
  },
  {
   "cell_type": "markdown",
   "id": "b46153f9-56d1-4446-8844-8d65b6cc3a33",
   "metadata": {},
   "source": [
    "4. 'else' Clause with Loops:   \n",
    "    Both 'for' and 'while' loops can have an else clause. The else block is executed when the loop finishes normally (i.e., without encountering a break statement)."
   ]
  },
  {
   "cell_type": "code",
   "execution_count": 9,
   "id": "0fdf3465-0524-444e-932a-b3770eddb08b",
   "metadata": {},
   "outputs": [
    {
     "name": "stdout",
     "output_type": "stream",
     "text": [
      "0\n",
      "1\n",
      "2\n",
      "3\n",
      "4\n",
      "Loop completed.\n"
     ]
    }
   ],
   "source": [
    "# Example\n",
    "\n",
    "# Loop with an else clause\n",
    "for num in range(5):\n",
    "    print(num)\n",
    "else:\n",
    "    print(\"Loop completed.\")"
   ]
  },
  {
   "cell_type": "code",
   "execution_count": null,
   "id": "77310078-9413-43b6-8793-3c8b2e596335",
   "metadata": {},
   "outputs": [],
   "source": []
  }
 ],
 "metadata": {
  "kernelspec": {
   "display_name": "Python 3 (ipykernel)",
   "language": "python",
   "name": "python3"
  },
  "language_info": {
   "codemirror_mode": {
    "name": "ipython",
    "version": 3
   },
   "file_extension": ".py",
   "mimetype": "text/x-python",
   "name": "python",
   "nbconvert_exporter": "python",
   "pygments_lexer": "ipython3",
   "version": "3.10.8"
  }
 },
 "nbformat": 4,
 "nbformat_minor": 5
}
